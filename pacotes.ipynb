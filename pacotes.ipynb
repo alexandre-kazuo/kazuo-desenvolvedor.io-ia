{
  "nbformat": 4,
  "nbformat_minor": 0,
  "metadata": {
    "colab": {
      "provenance": [],
      "authorship_tag": "ABX9TyPCLOhHWT/CqltY1I4Ke9MI",
      "include_colab_link": true
    },
    "kernelspec": {
      "name": "python3",
      "display_name": "Python 3"
    },
    "language_info": {
      "name": "python"
    }
  },
  "cells": [
    {
      "cell_type": "markdown",
      "metadata": {
        "id": "view-in-github",
        "colab_type": "text"
      },
      "source": [
        "<a href=\"https://colab.research.google.com/github/alexandre-kazuo/kazuo-desenvolvedor.io-ia/blob/main/pacotes.ipynb\" target=\"_parent\"><img src=\"https://colab.research.google.com/assets/colab-badge.svg\" alt=\"Open In Colab\"/></a>"
      ]
    },
    {
      "cell_type": "markdown",
      "source": [
        "# NumPy"
      ],
      "metadata": {
        "id": "EI0VUiLj4lWB"
      }
    },
    {
      "cell_type": "code",
      "execution_count": 1,
      "metadata": {
        "id": "wyULBVTT4Mzg"
      },
      "outputs": [],
      "source": [
        "import numpy as np"
      ]
    },
    {
      "cell_type": "code",
      "source": [
        "array = np.array([1, 2, 3, 4, 5])\n",
        "mean_value = np.mean(array)\n",
        "sum_value = np.sum(array)\n",
        "count_value = np.count_nonzero(array)\n",
        "print(\"Soma do array: \", sum_value)\n",
        "print(\"Tamanho do array: \", count_value)\n",
        "print(\"Média do array: \", mean_value)"
      ],
      "metadata": {
        "id": "TEooUmR64xcf"
      },
      "execution_count": null,
      "outputs": []
    }
  ]
}